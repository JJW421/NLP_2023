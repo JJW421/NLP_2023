{
  "nbformat": 4,
  "nbformat_minor": 0,
  "metadata": {
    "colab": {
      "name": "CodeCells_Basic_.ipynb",
      "provenance": [],
      "include_colab_link": true
    },
    "kernelspec": {
      "name": "python3",
      "display_name": "Python 3"
    },
    "language_info": {
      "name": "python"
    }
  },
  "cells": [
    {
      "cell_type": "markdown",
      "metadata": {
        "id": "view-in-github",
        "colab_type": "text"
      },
      "source": [
        "<a href=\"https://colab.research.google.com/github/JJW421/NLP_2023/blob/main/2_FiveTypesofData.ipynb\" target=\"_parent\"><img src=\"https://colab.research.google.com/assets/colab-badge.svg\" alt=\"Open In Colab\"/></a>"
      ]
    },
    {
      "cell_type": "markdown",
      "source": [
        "#🐹 🐾  Five Types of Data\n",
        "        Number(숫자), String(문자열), List(리스트), Tuple(튜플), Dictionary(사전)\n",
        "\n",
        "Variables can be either a number or a sequence.     \n",
        "\n",
        "1️⃣ Numbers can be either integers, floats, or imaginary numbers.\n",
        "- interger 정수 : -100, -30, -11, 0, 1, 5, 100, 302, etc.\n",
        "- float 실수 : -100.0, -30.0, -11.0, 0.0, 0.1, 2.4, 100.32, etc.\n",
        "- complex 복소수: 1 + 5j\n",
        "      ('j' represents imaginary numbers 허수)\n",
        "\n",
        "2️⃣ Three types of seqeunce data\n",
        "\n",
        "🅰️ <font color='red'> String </font> data are non-numerical data. It is indicated by a pair of either double quotations or single quotations.\n",
        "- \"a\", \"b\", \"c\"\n",
        "- 'a', 'b', 'c'\n",
        "- \"042114\" (cf., 042114)\n",
        "- \"I love Sam's pencil case\"\n",
        "\n",
        "🅱️ Data can be consecutively connected. The <font color='red'> list</font>-stle-type data is most common. If consecutively connected elements are protected from a modification, we especially call it a <font color='red'> tuple</font>-style-type.\n",
        "\n",
        "- i) <font color='red'> List</font>: A list is indicated by a pair of square brackets [ ].\n",
        "      ['a', 'abc', 1, '911', 'I love Python']\n",
        "\n",
        "- ii) <font color='red'> Tuple</font>: A tuple is indicated by a pair of brackets ( ).\n",
        "      ('a', 'abc', 1, '911', 'I love Python')\n",
        "\n",
        "👀 Be aware that elements in a list/tuple can be numbers, strings, dictionaries, or embeded lists/tuples of any kind. Note that elements in a tuple cannot be modified but protected under no circumstances.\n",
        "\n",
        "- [1, 'a', 'bananas', 'berries','3.14']  \n",
        "- [{'Earth': 14725000000, 'Mars': 23934000000}, [1, 2, 3], ['b', '042-114', 'I like apples'], (100, 200, 300)]\n",
        "\n",
        "3️⃣ A paired data with a matched <font color='blue'>key - value</font> set is called <font color = 'red'> dictionary <font/>.\n",
        "- {'a':'A', 'b':'B', 'c':\"C'}\n",
        "- {'a':1, 'b':2, 'c':3}\n",
        "# - {'d':4}\n",
        "## 새 섹션\n"
      ],
      "metadata": {
        "id": "ttlPtPfmAAdV"
      }
    },
    {
      "cell_type": "markdown",
      "source": [
        "## <font color = 'green'> Exercise\n",
        "### <font color = 'green'>Assigning <font color = 'red'>Numbers</front> <font color = 'green'>to varialbes\n"
      ],
      "metadata": {
        "id": "aJ0Z8qFlWaAx"
      }
    },
    {
      "cell_type": "code",
      "source": [
        "#@markdown 📌 Assign 1 to a variable a.\n",
        "\n",
        "a = 1\n",
        "print (a)"
      ],
      "metadata": {
        "id": "xV1LWOHyWZaq",
        "outputId": "c03e2286-8050-4ac0-ae58-4c91a662b6b0",
        "colab": {
          "base_uri": "https://localhost:8080/"
        }
      },
      "execution_count": null,
      "outputs": [
        {
          "output_type": "stream",
          "name": "stdout",
          "text": [
            "1\n"
          ]
        }
      ]
    },
    {
      "cell_type": "code",
      "source": [
        "#@markdown 🏠 Assign 1 to variables\n",
        "a = 1\n",
        "print(a)"
      ],
      "metadata": {
        "id": "WDjAI2i2qNJs",
        "outputId": "dd3c3425-e88d-4369-d1ea-e66dca657d8e",
        "colab": {
          "base_uri": "https://localhost:8080/"
        }
      },
      "execution_count": null,
      "outputs": [
        {
          "output_type": "stream",
          "name": "stdout",
          "text": [
            "1\n"
          ]
        }
      ]
    },
    {
      "cell_type": "code",
      "source": [
        "b = 2\n",
        "print(b)"
      ],
      "metadata": {
        "id": "9XjwT7_krEl5",
        "outputId": "2d3b3a77-0fa1-4926-b829-4c4462fccbf5",
        "colab": {
          "base_uri": "https://localhost:8080/"
        }
      },
      "execution_count": null,
      "outputs": [
        {
          "output_type": "stream",
          "name": "stdout",
          "text": [
            "2\n"
          ]
        }
      ]
    },
    {
      "cell_type": "code",
      "source": [
        "#@markdown 🐧 Assign 2 to a variable b.\n",
        "b = 2\n",
        "print (b)"
      ],
      "metadata": {
        "id": "Kggbn20yVpFO",
        "outputId": "e535b969-acad-41d8-dad3-f7ec794198e4",
        "colab": {
          "base_uri": "https://localhost:8080/"
        }
      },
      "execution_count": null,
      "outputs": [
        {
          "output_type": "stream",
          "name": "stdout",
          "text": [
            "2\n"
          ]
        }
      ]
    },
    {
      "cell_type": "code",
      "source": [
        "#@markdown 📌 Use a print function and a Boolean operator +\n",
        "print(a + b)"
      ],
      "metadata": {
        "id": "oC2orsLTWQwg",
        "outputId": "7e321cfd-f0d0-4cef-9c20-130160192c79",
        "colab": {
          "base_uri": "https://localhost:8080/"
        }
      },
      "execution_count": null,
      "outputs": [
        {
          "output_type": "stream",
          "name": "stdout",
          "text": [
            "3\n"
          ]
        }
      ]
    },
    {
      "cell_type": "code",
      "source": [
        "print(a+b)\n"
      ],
      "metadata": {
        "id": "mu41MSLcrKe3",
        "outputId": "319a1e00-871a-4c00-a514-411d4d662d9e",
        "colab": {
          "base_uri": "https://localhost:8080/"
        }
      },
      "execution_count": null,
      "outputs": [
        {
          "output_type": "stream",
          "name": "stdout",
          "text": [
            "3\n"
          ]
        }
      ]
    },
    {
      "cell_type": "markdown",
      "source": [
        "## <font color = 'green'> Exercise\n",
        "### <font color = 'green'>Assigning <font color = 'red'> Strings</front> <font color = 'green'>to varialbes"
      ],
      "metadata": {
        "id": "zSushYscXEkk"
      }
    },
    {
      "cell_type": "code",
      "source": [
        "#@markdown 📌 Assign a string to a variable c\n",
        "\n",
        "c = \"I want to go home!\"\n",
        "print (c)"
      ],
      "metadata": {
        "id": "DxeSoiafXW0z",
        "outputId": "00688639-ae0a-4622-d9e1-2f9e407ef371",
        "colab": {
          "base_uri": "https://localhost:8080/"
        }
      },
      "execution_count": null,
      "outputs": [
        {
          "output_type": "stream",
          "name": "stdout",
          "text": [
            "I want to go home!\n"
          ]
        }
      ]
    },
    {
      "cell_type": "code",
      "source": [
        "c = \"I want to go home!\"\n",
        "print (c)"
      ],
      "metadata": {
        "id": "4IT_nH3ft70R",
        "outputId": "76d24fe6-2541-40bf-a2c2-3681af9e9cd3",
        "colab": {
          "base_uri": "https://localhost:8080/"
        }
      },
      "execution_count": null,
      "outputs": [
        {
          "output_type": "stream",
          "name": "stdout",
          "text": [
            "I want to go home!\n"
          ]
        }
      ]
    },
    {
      "cell_type": "code",
      "source": [
        "#@markdown 📌 To assign valid variable names\n",
        "a = 'Lori'\n",
        "_b = 'Sam'\n",
        "a_b = 'Ken'\n",
        "c_d = 'Jen'\n",
        "\n",
        "a = 'Emma' # Be aware that variable a is used two times!"
      ],
      "metadata": {
        "id": "FqAo7mMFEfjd"
      },
      "execution_count": null,
      "outputs": []
    },
    {
      "cell_type": "code",
      "source": [
        "a= 'Jiwon'\n",
        "print(a)\n",
        "b = 'Luna'\n",
        "print(b)\n",
        "a_b= 'Lori'\n",
        "print(a_b)\n",
        "c_d = 'Sam'\n",
        "print(c_d)\n",
        "\n",
        "a= 'Jiwon'\n",
        "print(a)"
      ],
      "metadata": {
        "id": "M2iZQXo3uPxi",
        "outputId": "49f5a202-8b56-463e-f7e2-98e4d173aeea",
        "colab": {
          "base_uri": "https://localhost:8080/"
        }
      },
      "execution_count": null,
      "outputs": [
        {
          "output_type": "stream",
          "name": "stdout",
          "text": [
            "Jiwon\n",
            "Luna\n",
            "Lori\n",
            "Sam\n",
            "Jiwon\n"
          ]
        }
      ]
    },
    {
      "cell_type": "code",
      "source": [
        "print(a)"
      ],
      "metadata": {
        "id": "UA9BGRqsvq6a",
        "outputId": "73b6cc1b-e4b5-413b-d6ef-4547a9f3ebe5",
        "colab": {
          "base_uri": "https://localhost:8080/"
        }
      },
      "execution_count": null,
      "outputs": [
        {
          "output_type": "stream",
          "name": "stdout",
          "text": [
            "Jiwon\n"
          ]
        }
      ]
    },
    {
      "cell_type": "code",
      "source": [
        "thing = \"I love Sam's Pencil Case\"\n",
        "print(thing)"
      ],
      "metadata": {
        "id": "-Dkp5bbuwDiA",
        "outputId": "7c8a8ea8-64e3-4e20-99bb-b7f7fa0af2c4",
        "colab": {
          "base_uri": "https://localhost:8080/"
        }
      },
      "execution_count": null,
      "outputs": [
        {
          "output_type": "stream",
          "name": "stdout",
          "text": [
            "I love Sam's Pencil Case\n"
          ]
        }
      ]
    },
    {
      "cell_type": "code",
      "source": [
        "#@markdown 📌 More on printing variables\n",
        "a = 'Lori'\n",
        "print(a)\n",
        "\n",
        "_b = 'Sam'\n",
        "print(_b)\n",
        "\n",
        "a_b = 'Ken'\n",
        "print(a_b)\n",
        "\n",
        "c_d = 'Jen'\n",
        "print(c_d)\n",
        "\n",
        "a= 'Emma'\n",
        "print(a)          #⏰ Remember the latest varialbe is printed if there is a redundant varialbe name."
      ],
      "metadata": {
        "id": "I9Y-_bRZFCqQ",
        "outputId": "fef9c629-5aae-4f8e-9ccc-1dfb972de510",
        "colab": {
          "base_uri": "https://localhost:8080/"
        }
      },
      "execution_count": null,
      "outputs": [
        {
          "output_type": "stream",
          "name": "stdout",
          "text": [
            "Lori\n",
            "Sam\n",
            "Ken\n",
            "Jen\n",
            "Emma\n"
          ]
        }
      ]
    },
    {
      "cell_type": "code",
      "source": [
        "#If a variable name assinged with different values is repeated more than once, the most recent one matters.\n",
        "\n",
        "print (a) #Be aware that variable a is 'EMMA', not 'Lori.'"
      ],
      "metadata": {
        "id": "y46a2auP8X0o",
        "outputId": "e3035ef3-e955-4e7d-aef4-b49b86589ecc",
        "colab": {
          "base_uri": "https://localhost:8080/"
        }
      },
      "execution_count": null,
      "outputs": [
        {
          "output_type": "stream",
          "name": "stdout",
          "text": [
            "Emma\n"
          ]
        }
      ]
    },
    {
      "cell_type": "markdown",
      "source": [
        "## <font color = 'green'> Exercise\n",
        "### <font color = 'green'>Assigning <font color = 'red'>Lists</front> <font color = 'green'>to varialbes"
      ],
      "metadata": {
        "id": "zy4PTJNVg17p"
      }
    },
    {
      "cell_type": "code",
      "source": [
        "#@markdown 📌 Assign lists to variables such as d, e, f.\n",
        "\n",
        "d = [\"Mercury\", \"Venus\", \"Earth\", \"Mars\", \"Jupiter\", \"Saturn\", \"Uranus\", \"Neptune\"] #Names of planets\n",
        "e = [\"수성\", \"금성\", \"지구\", \"화성\", \"목성\", \"토성\", \"천황성\", \"혜왕성\" ] #행성 이름\n",
        "f = [1,2,3,4,5,6,7,8,9,10]\n",
        "\n",
        "print (d)\n",
        "print(e)\n",
        "print (f)"
      ],
      "metadata": {
        "id": "z4DHh7t_OCBS",
        "outputId": "576f7292-f137-4c2d-f0e7-c147e163323f",
        "colab": {
          "base_uri": "https://localhost:8080/"
        }
      },
      "execution_count": null,
      "outputs": [
        {
          "output_type": "stream",
          "name": "stdout",
          "text": [
            "['Mercury', 'Venus', 'Earth', 'Mars', 'Jupiter', 'Saturn', 'Uranus', 'Neptune']\n",
            "['수성', '금성', '지구', '화성', '목성', '토성', '천황성', '혜왕성']\n",
            "[1, 2, 3, 4, 5, 6, 7, 8, 9, 10]\n"
          ]
        }
      ]
    },
    {
      "cell_type": "markdown",
      "source": [
        "## <font color = 'green'> Exercise\n",
        "### <font color = 'green'>Assigning <font color = 'red'>Tuples</front> <font color = 'green'>to varialbes"
      ],
      "metadata": {
        "id": "Ocss-eJjVQYS"
      }
    },
    {
      "cell_type": "code",
      "source": [
        "#@markdown 📌 Assign tuples to variables such as g, h, i.\n",
        "\n",
        "g = (\"Mercury\", \"Venus\", \"Earth\", \"Mars\", \"Jupiter\", \"Saturn\", \"Uranus\", \"Neptune\") #Names of planets\n",
        "h = (\"수성\", \"금성\", \"지구\", \"화성\", \"목성\", \"토성\", \"천황성\", \"혜왕성\" ) #행성 이름\n",
        "i = (1,2,3,4,5,6,7,8,9,10)\n",
        "\n",
        "print (g)\n",
        "print(h)\n",
        "print (i)"
      ],
      "metadata": {
        "id": "yJ4OL86PVFoq",
        "outputId": "c20fbbfe-737d-4ca9-fc75-cdbef0049dee",
        "colab": {
          "base_uri": "https://localhost:8080/"
        }
      },
      "execution_count": null,
      "outputs": [
        {
          "output_type": "stream",
          "name": "stdout",
          "text": [
            "('Mercury', 'Venus', 'Earth', 'Mars', 'Jupiter', 'Saturn', 'Uranus', 'Neptune')\n",
            "('수성', '금성', '지구', '화성', '목성', '토성', '천황성', '혜왕성')\n",
            "(1, 2, 3, 4, 5, 6, 7, 8, 9, 10)\n"
          ]
        }
      ]
    },
    {
      "cell_type": "markdown",
      "source": [
        "## <font color = 'green'> Exercise\n",
        "### <font color = 'green'>Assigning <font color = 'red'>Dictionaries</front> <font color = 'green'>to varialbes"
      ],
      "metadata": {
        "id": "0xH4JM7TVrVX"
      }
    },
    {
      "cell_type": "code",
      "source": [
        "#@markdown 📌 Assign dictionary data to variables such as k and m.\n",
        "\n",
        "k = {'Mercury':'수성', 'Venus':'금성', 'Earth':'지구', 'Mars':'화성', 'Jupiter':'목성', 'Saturn':'토성', 'Uranus':'명왕성', 'Neptune':'해왕성'} #key in English: value in Korean\n",
        "\n",
        "m = {'Mercury 수성':1, 'Venus 금성':2, 'Earth 지구':3, 'Mars 화성':4, 'Jupiter 목성':5, 'Saturn 토성':6, 'Uranus 명왕성':7, 'Neptune 해왕성':8} # i) order of planets from the Sun, ii) key in English and Korean, iii) value in integers\n",
        "\n",
        "print (k)\n",
        "print (m)"
      ],
      "metadata": {
        "id": "gSLUolTJVyRF",
        "outputId": "ffed9ea3-2540-4ac3-ef2f-2b85b0217612",
        "colab": {
          "base_uri": "https://localhost:8080/"
        }
      },
      "execution_count": null,
      "outputs": [
        {
          "output_type": "stream",
          "name": "stdout",
          "text": [
            "{'Mercury': '수성', 'Venus': '금성', 'Earth': '지구', 'Mars': '화성', 'Jupiter': '목성', 'Saturn': '토성', 'Uranus': '명왕성', 'Neptune': '해왕성'}\n",
            "{'Mercury 수성': 1, 'Venus 금성': 2, 'Earth 지구': 3, 'Mars 화성': 4, 'Jupiter 목성': 5, 'Saturn 토성': 6, 'Uranus 명왕성': 7, 'Neptune 해왕성': 8}\n"
          ]
        }
      ]
    },
    {
      "cell_type": "code",
      "source": [
        "k = {'Mercury' : '수성' , 'venus':'금성' , 'Earth':'지구', 'Mars': ' 화성', 'Jupiter' : '목성', 'Saturn': '토성','Uranus': '명왕성' ,'Neptune': '해왕성'}\n",
        "print(k)\n",
        "\n",
        "m = {'Mercury 수성': 1, 'Venus 금성': 2, 'Earth 지구': 3, 'Mars 화성': 4, 'Jupiter 목성': 5, 'Saturn 토성': 6, 'Uranus 명왕성': 7, 'Neptune 해왕성': 8}\n",
        "print(m)"
      ],
      "metadata": {
        "id": "H9uyR4CyWBn9",
        "outputId": "f3c53664-0d1e-454a-c514-c975ddba3910",
        "colab": {
          "base_uri": "https://localhost:8080/"
        }
      },
      "execution_count": 7,
      "outputs": [
        {
          "output_type": "stream",
          "name": "stdout",
          "text": [
            "{'Mercury': '수성', 'venus': '금성', 'Earth': '지구', 'Mars': ' 화성', 'Jupiter': '목성', 'Saturn': '토성', 'Uranus': '명왕성', 'Neptune': '해왕성'}\n",
            "{'Mercury 수성': 1, 'Venus 금성': 2, 'Earth 지구': 3, 'Mars 화성': 4, 'Jupiter 목성': 5, 'Saturn 토성': 6, 'Uranus 명왕성': 7, 'Neptune 해왕성': 8}\n"
          ]
        }
      ]
    },
    {
      "cell_type": "code",
      "source": [
        "#@markdown 📌 Print the value of key 'a' ('a' as string data)\n",
        "dict = {'a':1, 'b':2, 'c':3}\n",
        "print (dict)\n",
        "print(dict['a'])"
      ],
      "metadata": {
        "colab": {
          "base_uri": "https://localhost:8080/"
        },
        "id": "j6w4opO3bjnK",
        "outputId": "ad9d705c-3399-40a2-fd26-5aa4cb096d91"
      },
      "execution_count": null,
      "outputs": [
        {
          "output_type": "stream",
          "name": "stdout",
          "text": [
            "{'a': 1, 'b': 2, 'c': 3}\n",
            "1\n"
          ]
        }
      ]
    },
    {
      "cell_type": "code",
      "source": [
        "dict = {'a':1,'b':2,'c':3 }\n",
        "print= (k)\n",
        "print= (m)\n",
        "print= (dict)\n",
        "dict['a']\n",
        "\n",
        "print['a'] = 7\n",
        "\n",
        "print(dict)\n",
        "\n"
      ],
      "metadata": {
        "id": "s78Sy1cAaeuc",
        "outputId": "574716d3-bfd0-46c6-e33d-2ed92eb57aef",
        "colab": {
          "base_uri": "https://localhost:8080/",
          "height": 239
        }
      },
      "execution_count": 23,
      "outputs": [
        {
          "output_type": "error",
          "ename": "TypeError",
          "evalue": "ignored",
          "traceback": [
            "\u001b[0;31m---------------------------------------------------------------------------\u001b[0m",
            "\u001b[0;31mTypeError\u001b[0m                                 Traceback (most recent call last)",
            "\u001b[0;32m<ipython-input-23-e2058ad84f2f>\u001b[0m in \u001b[0;36m<cell line: 9>\u001b[0;34m()\u001b[0m\n\u001b[1;32m      7\u001b[0m \u001b[0mprint\u001b[0m\u001b[0;34m[\u001b[0m\u001b[0;34m'a'\u001b[0m\u001b[0;34m]\u001b[0m \u001b[0;34m=\u001b[0m \u001b[0;36m7\u001b[0m\u001b[0;34m\u001b[0m\u001b[0;34m\u001b[0m\u001b[0m\n\u001b[1;32m      8\u001b[0m \u001b[0;34m\u001b[0m\u001b[0m\n\u001b[0;32m----> 9\u001b[0;31m \u001b[0mprint\u001b[0m\u001b[0;34m(\u001b[0m\u001b[0mdict\u001b[0m\u001b[0;34m)\u001b[0m\u001b[0;34m\u001b[0m\u001b[0;34m\u001b[0m\u001b[0m\n\u001b[0m\u001b[1;32m     10\u001b[0m \u001b[0;34m\u001b[0m\u001b[0m\n",
            "\u001b[0;31mTypeError\u001b[0m: 'dict' object is not callable"
          ]
        }
      ]
    },
    {
      "cell_type": "code",
      "source": [
        "dict = {'a':1,'b':2,'c':3 }\n",
        "print(dict)"
      ],
      "metadata": {
        "id": "tKHKTLjEdG6J",
        "outputId": "b8266b7c-9b62-466b-e4cf-f3ce2d2675a5",
        "colab": {
          "base_uri": "https://localhost:8080/",
          "height": 203
        }
      },
      "execution_count": 24,
      "outputs": [
        {
          "output_type": "error",
          "ename": "TypeError",
          "evalue": "ignored",
          "traceback": [
            "\u001b[0;31m---------------------------------------------------------------------------\u001b[0m",
            "\u001b[0;31mTypeError\u001b[0m                                 Traceback (most recent call last)",
            "\u001b[0;32m<ipython-input-24-452e3587fb1a>\u001b[0m in \u001b[0;36m<cell line: 2>\u001b[0;34m()\u001b[0m\n\u001b[1;32m      1\u001b[0m \u001b[0mdict\u001b[0m \u001b[0;34m=\u001b[0m \u001b[0;34m{\u001b[0m\u001b[0;34m'a'\u001b[0m\u001b[0;34m:\u001b[0m\u001b[0;36m1\u001b[0m\u001b[0;34m,\u001b[0m\u001b[0;34m'b'\u001b[0m\u001b[0;34m:\u001b[0m\u001b[0;36m2\u001b[0m\u001b[0;34m,\u001b[0m\u001b[0;34m'c'\u001b[0m\u001b[0;34m:\u001b[0m\u001b[0;36m3\u001b[0m \u001b[0;34m}\u001b[0m\u001b[0;34m\u001b[0m\u001b[0;34m\u001b[0m\u001b[0m\n\u001b[0;32m----> 2\u001b[0;31m \u001b[0mprint\u001b[0m\u001b[0;34m(\u001b[0m\u001b[0mdict\u001b[0m\u001b[0;34m)\u001b[0m\u001b[0;34m\u001b[0m\u001b[0;34m\u001b[0m\u001b[0m\n\u001b[0m",
            "\u001b[0;31mTypeError\u001b[0m: 'dict' object is not callable"
          ]
        }
      ]
    },
    {
      "cell_type": "code",
      "source": [
        "#@markdown 📌 Replacing a value of your dictionary data with another\n",
        "\n",
        "dict = {'a':1, 'b':2, 'c':3}\n",
        "\n",
        "print(dict)\n",
        "\n",
        "dict['a']=7\n",
        "print (dict)\n",
        "\n",
        "dict_data = {'c':10, 'b':20, 'a':30}\n",
        "print(dict_data)\n",
        "dict_data['a'] = 300\n",
        "print(dict_data)"
      ],
      "metadata": {
        "id": "LPGCS7A-t47c",
        "colab": {
          "base_uri": "https://localhost:8080/"
        },
        "outputId": "902e611f-1b58-46b2-b38f-7e0358d526f6"
      },
      "execution_count": null,
      "outputs": [
        {
          "output_type": "stream",
          "name": "stdout",
          "text": [
            "{'a': 1, 'b': 2, 'c': 3}\n",
            "{'a': 7, 'b': 2, 'c': 3}\n",
            "{'c': 10, 'b': 20, 'a': 30}\n",
            "{'c': 10, 'b': 20, 'a': 300}\n"
          ]
        }
      ]
    }
  ]
}